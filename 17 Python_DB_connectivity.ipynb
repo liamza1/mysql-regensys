{
 "cells": [
  {
   "cell_type": "code",
   "execution_count": 1,
   "id": "05c16729",
   "metadata": {
    "collapsed": true
   },
   "outputs": [
    {
     "name": "stdout",
     "output_type": "stream",
     "text": [
      "Requirement already satisfied: mysql-connector-python in c:\\users\\nilay\\anaconda3\\lib\\site-packages (8.0.30)\n",
      "Requirement already satisfied: protobuf<=3.20.1,>=3.11.0 in c:\\users\\nilay\\anaconda3\\lib\\site-packages (from mysql-connector-python) (3.20.1)\n"
     ]
    }
   ],
   "source": [
    "!pip install mysql-connector-python"
   ]
  },
  {
   "cell_type": "code",
   "execution_count": 28,
   "id": "13775af3",
   "metadata": {},
   "outputs": [
    {
     "name": "stdout",
     "output_type": "stream",
     "text": [
      "<mysql.connector.connection_cext.CMySQLConnection object at 0x00000174EB1E5D90>\n"
     ]
    }
   ],
   "source": [
    "import mysql.connector\n",
    "\n",
    "connection = mysql.connector.connect(\n",
    "  host =\"localhost\",\n",
    "  user =\"root\",\n",
    "  passwd =\"root\",\n",
    "  database=\"ecommerce_db\"\n",
    ")\n",
    " \n",
    "print(connection)\n",
    "  \n"
   ]
  },
  {
   "cell_type": "code",
   "execution_count": 29,
   "id": "ca1ad81e",
   "metadata": {},
   "outputs": [
    {
     "data": {
      "text/plain": [
       "mysql.connector.connection_cext.CMySQLConnection"
      ]
     },
     "execution_count": 29,
     "metadata": {},
     "output_type": "execute_result"
    }
   ],
   "source": [
    "type(connection)"
   ]
  },
  {
   "cell_type": "code",
   "execution_count": 30,
   "id": "1b9f0571",
   "metadata": {},
   "outputs": [
    {
     "name": "stdout",
     "output_type": "stream",
     "text": [
      "(9, 'Samson', 'Samson@gmail.com', datetime.date(2020, 8, 15), 1, '8889999999', 'Abuja')\n",
      "(10, 'Paul', 'paul@gmail.com', datetime.date(2021, 4, 25), 1, '7999999999', 'Potch')\n",
      "(11, 'Kashmira', 'Kashmira@gmail.com', datetime.date(2020, 8, 15), 1, '8889999999', 'Durban')\n",
      "(12, 'Cynthiya', 'Cynthiya@gmail.com', datetime.date(2020, 8, 15), 1, '8889999999', 'Johansburb')\n",
      "(13, 'Liam', 'Liam@gmail.com', datetime.date(2021, 8, 15), 1, '8889994499', 'Abuja')\n",
      "(14, 'Cynthiya', 'Cynthiya@gmail.com', datetime.date(2010, 8, 15), 1, '8889559999', 'Lagos')\n"
     ]
    }
   ],
   "source": [
    "cursor_obj = connection.cursor()\n",
    "\n",
    "query = \"select * from ecommerce_customer;\"\n",
    "cursor_obj.execute(query)\n",
    "   \n",
    "myresult = cursor_obj.fetchall()\n",
    "   \n",
    "for x in myresult:\n",
    "    print(x)\n",
    " \n"
   ]
  },
  {
   "cell_type": "code",
   "execution_count": null,
   "id": "193fbd05",
   "metadata": {},
   "outputs": [],
   "source": []
  },
  {
   "cell_type": "code",
   "execution_count": 31,
   "id": "1d4d2ea5",
   "metadata": {},
   "outputs": [
    {
     "name": "stdout",
     "output_type": "stream",
     "text": [
      "Samson  lives in  Abuja\n",
      "Paul  lives in  Potch\n",
      "Kashmira  lives in  Durban\n",
      "Cynthiya  lives in  Johansburb\n",
      "Liam  lives in  Abuja\n",
      "Cynthiya  lives in  Lagos\n"
     ]
    }
   ],
   "source": [
    "for x in myresult:\n",
    "    print(x[1],\" lives in \",x[6])"
   ]
  },
  {
   "cell_type": "code",
   "execution_count": 32,
   "id": "4ab98e35",
   "metadata": {},
   "outputs": [],
   "source": [
    "# disconnecting from server\n",
    "connection.close()"
   ]
  },
  {
   "cell_type": "code",
   "execution_count": 33,
   "id": "24422def",
   "metadata": {},
   "outputs": [
    {
     "name": "stdout",
     "output_type": "stream",
     "text": [
      "Connected to MySQL Server version  8.0.30\n",
      "You're connected to database:  ('ecommerce_db',)\n",
      "('Samson',)\n",
      "('Paul',)\n",
      "('Kashmira',)\n",
      "('Cynthiya',)\n",
      "('Liam',)\n",
      "('Cynthiya',)\n",
      "MySQL connection is closed\n"
     ]
    }
   ],
   "source": [
    "import mysql.connector\n",
    "from mysql.connector import Error\n",
    "\n",
    "try:\n",
    "    connection = mysql.connector.connect(host='localhost',\n",
    "                                         database='ecommerce_db',\n",
    "                                         user='root',\n",
    "                                         password='root')\n",
    "    if connection.is_connected():\n",
    "        db_Info = connection.get_server_info()\n",
    "        print(\"Connected to MySQL Server version \", db_Info)\n",
    "        cursor = connection.cursor()\n",
    "        cursor.execute(\"select database();\")\n",
    "        record = cursor.fetchone()\n",
    "        print(\"You're connected to database: \", record)\n",
    "        \n",
    "\n",
    "        query = \"select customer_name from ecommerce_customer;\"\n",
    "        cursor.execute(query)\n",
    "\n",
    "        myresult = cursor.fetchall()\n",
    "        \n",
    "        for x in myresult:\n",
    "            print(x)\n",
    "\n",
    "\n",
    "except Error as e:\n",
    "    print(\"Error while connecting to MySQL\", e)\n",
    "finally:\n",
    "    if connection.is_connected():\n",
    "        cursor.close()\n",
    "        connection.close()\n",
    "        print(\"MySQL connection is closed\")"
   ]
  }
 ],
 "metadata": {
  "kernelspec": {
   "display_name": "Python 3 (ipykernel)",
   "language": "python",
   "name": "python3"
  },
  "language_info": {
   "codemirror_mode": {
    "name": "ipython",
    "version": 3
   },
   "file_extension": ".py",
   "mimetype": "text/x-python",
   "name": "python",
   "nbconvert_exporter": "python",
   "pygments_lexer": "ipython3",
   "version": "3.9.7"
  }
 },
 "nbformat": 4,
 "nbformat_minor": 5
}
